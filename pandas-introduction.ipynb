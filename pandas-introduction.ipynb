{
 "cells": [
  {
   "cell_type": "markdown",
   "id": "247ed9e7-34a6-4357-8e3c-a2c0441545eb",
   "metadata": {},
   "source": [
    "<h1>Introduction to Pandas</h1>\n",
    "<li>Pandas is an open source library built on top of NumPy</li>\n",
    "<li>It allows for fast analysis and data cleaning and preparation</li>\n",
    "<li>It excels in performance and productivity</li>\n",
    "<li>it also has built-in visualization features</li>\n",
    "<li>It can work with data from a wide variety of sources</li>\n",
    "<li>You'll need to install pandas by going to your command line or terminal and using either</li>\n",
    "\n",
    "<code>conda install pandas</code>\n",
    "<code>pip install pandas</code>\n",
    "<li>Topics:</li>\n",
    "<li>> Series</li>\n",
    "<li>> DataFrames</li>\n",
    "<li>> Missing Data</li>\n",
    "<li>> GroupBy</li>\n",
    "<li>> Merging, Joining, and Concatenating</li>\n",
    "<li>> Operations</li>\n",
    "<li>> Data Input and Output</li>"
   ]
  },
  {
   "cell_type": "code",
   "execution_count": null,
   "id": "ee357dd5-ef7a-4343-a280-8ac8af2ed2a5",
   "metadata": {},
   "outputs": [],
   "source": []
  }
 ],
 "metadata": {
  "kernelspec": {
   "display_name": "Python 3 (ipykernel)",
   "language": "python",
   "name": "python3"
  },
  "language_info": {
   "codemirror_mode": {
    "name": "ipython",
    "version": 3
   },
   "file_extension": ".py",
   "mimetype": "text/x-python",
   "name": "python",
   "nbconvert_exporter": "python",
   "pygments_lexer": "ipython3",
   "version": "3.11.7"
  }
 },
 "nbformat": 4,
 "nbformat_minor": 5
}
